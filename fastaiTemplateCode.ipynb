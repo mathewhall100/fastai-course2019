{
  "nbformat": 4,
  "nbformat_minor": 0,
  "metadata": {
    "colab": {
      "name": "fastaiTemplateCode.ipynb",
      "version": "0.3.2",
      "provenance": [],
      "collapsed_sections": [],
      "include_colab_link": true
    },
    "kernelspec": {
      "name": "python3",
      "display_name": "Python 3"
    }
  },
  "cells": [
    {
      "cell_type": "markdown",
      "metadata": {
        "id": "view-in-github",
        "colab_type": "text"
      },
      "source": [
        "<a href=\"https://colab.research.google.com/github/mathewhall100/fastai-course2019/blob/master/fastaiTemplateCode.ipynb\" target=\"_parent\"><img src=\"https://colab.research.google.com/assets/colab-badge.svg\" alt=\"Open In Colab\"/></a>"
      ]
    },
    {
      "cell_type": "code",
      "metadata": {
        "id": "ToqfHwDixoib",
        "colab_type": "code",
        "outputId": "90acee66-051a-49e2-af36-a4d7624eb04d",
        "colab": {
          "base_uri": "https://localhost:8080/",
          "height": 51
        }
      },
      "source": [
        "!curl -s https://course.fast.ai/setup/colab | bash"
      ],
      "execution_count": 0,
      "outputs": [
        {
          "output_type": "stream",
          "text": [
            "Updating fastai...\n",
            "Done.\n"
          ],
          "name": "stdout"
        }
      ]
    },
    {
      "cell_type": "markdown",
      "metadata": {
        "id": "HpwfxSrd7yNd",
        "colab_type": "text"
      },
      "source": [
        "**Step 4: Saving your data files**\n",
        "\n",
        "If you run a script which creates/ downloads files, the files will NOT persist after the allocated instance is shutdown. To save files, you need to permit your Colaboratory instance to read and write files to your Google Drive. Add the following code snippet at the beginning of every notebook."
      ]
    },
    {
      "cell_type": "code",
      "metadata": {
        "id": "rFl1WEMjxBeF",
        "colab_type": "code",
        "colab": {}
      },
      "source": [
        "from google.colab import drive\n",
        "drive.mount(\"/content/gdrive\", force_remount=True)\n",
        "root_dir = \"/content/gdrive/My Drive/\"\n",
        "base_dir = root_dir + 'fastai-v3/'"
      ],
      "execution_count": 0,
      "outputs": []
    },
    {
      "cell_type": "markdown",
      "metadata": {
        "id": "81gigqVK8B6a",
        "colab_type": "text"
      },
      "source": [
        "**Now**\n",
        "\n",
        "you may access your Google Drive as a file sytem using standard python commands to both read and write files. Don’t forget to append base_dir before root path(s) in all notebooks. For example, in lesson2-download.ipynb 5th cell, make the following changes"
      ]
    },
    {
      "cell_type": "code",
      "metadata": {
        "id": "qJTGELce8IX-",
        "colab_type": "code",
        "colab": {}
      },
      "source": [
        "path = Path(base_dir + 'data/bears')\n",
        "dest = path/folder\n",
        "dest.mkdir(parents=True, exist_ok=True)"
      ],
      "execution_count": 0,
      "outputs": []
    }
  ]
}