{
  "nbformat": 4,
  "nbformat_minor": 0,
  "metadata": {
    "colab": {
      "name": "Notebook_initial_boilerplate.ipynb",
      "version": "0.3.2",
      "provenance": [],
      "collapsed_sections": [],
      "include_colab_link": true
    },
    "kernelspec": {
      "name": "python3",
      "display_name": "Python 3"
    }
  },
  "cells": [
    {
      "cell_type": "markdown",
      "metadata": {
        "id": "view-in-github",
        "colab_type": "text"
      },
      "source": [
        "<a href=\"https://colab.research.google.com/github/mathewhall100/fastai-course2019/blob/master/Notebook_initial_boilerplate.ipynb\" target=\"_parent\"><img src=\"https://colab.research.google.com/assets/colab-badge.svg\" alt=\"Open In Colab\"/></a>"
      ]
    },
    {
      "cell_type": "markdown",
      "metadata": {
        "id": "oAGKsAA8ArmE",
        "colab_type": "text"
      },
      "source": [
        "## Notebook setup"
      ]
    },
    {
      "cell_type": "code",
      "metadata": {
        "id": "lT2rJ2wDAjjR",
        "colab_type": "code",
        "colab": {}
      },
      "source": [
        "from google.colab import drive\n",
        "drive.mount(\"/content/gdrive\", force_remount=True)\n",
        "root_dir = \"/content/gdrive/My Drive/\"\n",
        "base_dir = root_dir + 'fastai-v3/'"
      ],
      "execution_count": 0,
      "outputs": []
    },
    {
      "cell_type": "code",
      "metadata": {
        "id": "owRopfr1Blgo",
        "colab_type": "code",
        "colab": {}
      },
      "source": [
        "!pip install nbformat\n",
        "!pip install nbconvert==5.4.1"
      ],
      "execution_count": 0,
      "outputs": []
    },
    {
      "cell_type": "code",
      "metadata": {
        "id": "pArruaanBlqk",
        "colab_type": "code",
        "colab": {}
      },
      "source": [
        "%reload_ext autoreload\n",
        "%autoreload 2\n",
        "%matplotlib inline"
      ],
      "execution_count": 0,
      "outputs": []
    },
    {
      "cell_type": "markdown",
      "metadata": {
        "id": "c_ZO1a3WBpIN",
        "colab_type": "text"
      },
      "source": [
        "## Import libraries"
      ]
    },
    {
      "cell_type": "code",
      "metadata": {
        "id": "OtHxPINvBv6M",
        "colab_type": "code",
        "colab": {}
      },
      "source": [
        "from fastai.vision import *\n",
        "from fastai.metrics import error_rate\n",
        "import pandas as pd\n",
        "from pandas import DataFrame"
      ],
      "execution_count": 0,
      "outputs": []
    },
    {
      "cell_type": "markdown",
      "metadata": {
        "id": "oFFC_0jABxNX",
        "colab_type": "text"
      },
      "source": [
        "## Verify GPU status"
      ]
    },
    {
      "cell_type": "code",
      "metadata": {
        "id": "i83Mue1sB3Xp",
        "colab_type": "code",
        "outputId": "4ab653f1-ea7a-48f3-e4e8-76b7bb7149bf",
        "colab": {
          "base_uri": "https://localhost:8080/",
          "height": 119
        }
      },
      "source": [
        "print(\"GPU: \", torch.cuda.is_available())\n",
        "print(\"Device = \", torch.device(torch.cuda.current_device()))\n",
        "print(\"PyTorch version - \", torch.__version__)\n",
        "print(\"Cuda version - \", torch.version.cuda)\n",
        "print(\"cuDNN version - \", torch.backends.cudnn.version())\n",
        "print(\"python PIL version - \", PIL.PILLOW_VERSION)"
      ],
      "execution_count": 0,
      "outputs": [
        {
          "output_type": "stream",
          "text": [
            "GPU:  True\n",
            "Device =  cuda:0\n",
            "PyTorch version -  1.1.0\n",
            "Cuda version -  10.0.130\n",
            "cuDNN version -  7501\n",
            "python PIL version -  4.3.0\n"
          ],
          "name": "stdout"
        }
      ]
    }
  ]
}