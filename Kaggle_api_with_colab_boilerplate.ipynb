{
  "nbformat": 4,
  "nbformat_minor": 0,
  "metadata": {
    "colab": {
      "name": "Kaggle_api_with_colab_boilerplate.ipynb",
      "version": "0.3.2",
      "provenance": [],
      "collapsed_sections": [],
      "include_colab_link": true
    },
    "kernelspec": {
      "name": "python3",
      "display_name": "Python 3"
    },
    "accelerator": "GPU"
  },
  "cells": [
    {
      "cell_type": "markdown",
      "metadata": {
        "id": "view-in-github",
        "colab_type": "text"
      },
      "source": [
        "<a href=\"https://colab.research.google.com/github/mathewhall100/fastai-course2019/blob/master/Kaggle_api_with_colab_boilerplate.ipynb\" target=\"_parent\"><img src=\"https://colab.research.google.com/assets/colab-badge.svg\" alt=\"Open In Colab\"/></a>"
      ]
    },
    {
      "cell_type": "markdown",
      "metadata": {
        "id": "g3H1jZHDAxt_",
        "colab_type": "text"
      },
      "source": [
        "## Create .kaggle/kaggle.json file  with user API_credentials\n",
        "\n",
        "To use the Kaggle API, sign up for a Kaggle account at https://www.kaggle.com. Then go to the 'Account' tab of your user profile    (https://www.kaggle.com/<username>/account) and select 'Create API Token'. This will trigger the download of kaggle.json, a file containing your API credentials."
      ]
    },
    {
      "cell_type": "code",
      "metadata": {
        "id": "Xz1iqswTBepJ",
        "colab_type": "code",
        "colab": {
          "base_uri": "https://localhost:8080/",
          "height": 221
        },
        "outputId": "aeeef75d-941e-404b-9a20-0b6a4b791545"
      },
      "source": [
        "import os # note - don't need this step if you have already imported fastai\n",
        "!pip install kaggle\n",
        "api_token = # {username and password copied from API credentials}\n",
        "import json\n",
        "import zipfile\n",
        "# Create target Directory if doesn't exist\n",
        "if not os.path.exists(\"/root/.kaggle\"):\n",
        "    os.mkdir(\"/root/.kaggle\")\n",
        "    print(\"Directory \" , \"/root/.kaggle\" ,  \" Created \")\n",
        "else:    \n",
        "    print(\"Directory \" , \"/root/.kaggle\" ,  \" already exists\")\n",
        "# Create kaggle.json file then write api_token into it\n",
        "with open('/root/.kaggle/kaggle.json', 'w+') as file:\n",
        "  json.dump(api_token, file)\n",
        "# Important - change permissions of kaggle.json api_key not exposed to other users\n",
        "!chmod 600 '/root/.kaggle/kaggle.json'"
      ],
      "execution_count": 22,
      "outputs": [
        {
          "output_type": "stream",
          "text": [
            "Requirement already satisfied: kaggle in /usr/local/lib/python3.6/dist-packages (1.5.4)\n",
            "Requirement already satisfied: six>=1.10 in /usr/local/lib/python3.6/dist-packages (from kaggle) (1.12.0)\n",
            "Requirement already satisfied: certifi in /usr/local/lib/python3.6/dist-packages (from kaggle) (2019.3.9)\n",
            "Requirement already satisfied: python-dateutil in /usr/local/lib/python3.6/dist-packages (from kaggle) (2.5.3)\n",
            "Requirement already satisfied: requests in /usr/local/lib/python3.6/dist-packages (from kaggle) (2.21.0)\n",
            "Requirement already satisfied: python-slugify in /usr/local/lib/python3.6/dist-packages (from kaggle) (3.0.2)\n",
            "Requirement already satisfied: urllib3<1.25,>=1.21.1 in /usr/local/lib/python3.6/dist-packages (from kaggle) (1.24.3)\n",
            "Requirement already satisfied: tqdm in /usr/local/lib/python3.6/dist-packages (from kaggle) (4.28.1)\n",
            "Requirement already satisfied: idna<2.9,>=2.5 in /usr/local/lib/python3.6/dist-packages (from requests->kaggle) (2.8)\n",
            "Requirement already satisfied: chardet<3.1.0,>=3.0.2 in /usr/local/lib/python3.6/dist-packages (from requests->kaggle) (3.0.4)\n",
            "Requirement already satisfied: text-unidecode==1.2 in /usr/local/lib/python3.6/dist-packages (from python-slugify->kaggle) (1.2)\n",
            "Directory  /root/.kaggle  already exists\n"
          ],
          "name": "stdout"
        }
      ]
    },
    {
      "cell_type": "code",
      "metadata": {
        "id": "VAe-NyeK6dYN",
        "colab_type": "code",
        "colab": {}
      },
      "source": [
        "# Confirm that kaggle.json exists and contains API credentials\n",
        "file = open('/root/.kaggle/kaggle.json', 'r')\n",
        "print(file.read())\n",
        "\n",
        "# Should print out your API credentials."
      ],
      "execution_count": 0,
      "outputs": []
    },
    {
      "cell_type": "markdown",
      "metadata": {
        "id": "5C42rTo1iep5",
        "colab_type": "text"
      },
      "source": [
        "## Access kaggle api\n",
        "\n",
        "See kaggle api docs on https://github.com/kaggle/kaggle-api for full list of api commands and arguments"
      ]
    },
    {
      "cell_type": "code",
      "metadata": {
        "id": "K5mgvqUgb3aq",
        "colab_type": "code",
        "colab": {
          "base_uri": "https://localhost:8080/",
          "height": 391
        },
        "outputId": "55fb10f3-b1fe-4253-afcc-13335d706d9d"
      },
      "source": [
        "# Show kaggle datasets page 1\n",
        "!kaggle datasets 'list' --p 1"
      ],
      "execution_count": 19,
      "outputs": [
        {
          "output_type": "stream",
          "text": [
            "ref                                                          title                                                size  lastUpdated          downloadCount  \n",
            "-----------------------------------------------------------  --------------------------------------------------  -----  -------------------  -------------  \n",
            "vjchoudhary7/customer-segmentation-tutorial-in-python        Mall Customer Segmentation Data                       2KB  2018-08-11 07:23:02          16220  \n",
            "fivethirtyeight/fivethirtyeight-comic-characters-dataset     FiveThirtyEight Comic Characters Dataset            577KB  2019-04-26 15:01:41           4916  \n",
            "russellyates88/suicide-rates-overview-1985-to-2016           Suicide Rates Overview 1985 to 2016                 396KB  2018-12-01 19:18:25          40920  \n",
            "karangadiya/fifa19                                           FIFA 19 complete player dataset                       2MB  2018-12-21 03:52:59          38871  \n",
            "iarunava/cell-images-for-detecting-malaria                   Malaria Cell Images Dataset                         337MB  2018-12-05 05:40:21           9393  \n",
            "bigquery/crypto-ethereum-classic                             Ethereum Classic Blockchain                          70GB  2019-03-20 23:21:25              0  \n",
            "jessicali9530/stanford-dogs-dataset                          Stanford Dogs Dataset                               735MB  2019-02-13 05:45:25           5708  \n",
            "lava18/google-play-store-apps                                Google Play Store Apps                                2MB  2019-02-03 13:55:47          65999  \n",
            "mohansacharya/graduate-admissions                            Graduate Admissions                                   9KB  2018-12-28 10:07:14          28364  \n",
            "safegraph/visit-patterns-by-census-block-group               Consumer & Visitor Insights For Neighborhoods        66MB  2018-12-19 21:31:50           2520  \n",
            "noriuk/us-education-datasets-unification-project             U.S. Education Datasets: Unification Project         85MB  2019-03-02 18:41:52           6660  \n",
            "anokas/kuzushiji                                             Kuzushiji-MNIST                                     318MB  2018-12-17 01:19:31           1276  \n",
            "safegraph/census-block-group-american-community-survey-data  Census Block Group American Community Survey Data     2GB  2018-12-22 00:29:56           1245  \n",
            "pavansanagapati/urban-sound-classification                   Urban Sound Classification                            6GB  2018-06-16 13:44:36           3565  \n",
            "rmisra/news-headlines-dataset-for-sarcasm-detection          News Headlines Dataset For Sarcasm Detection          2MB  2018-06-09 22:14:56           4397  \n",
            "jessicali9530/celeba-dataset                                 CelebFaces Attributes (CelebA) Dataset                1GB  2018-06-01 20:08:48          10273  \n",
            "cityofLA/los-angeles-parking-citations                       Los Angeles Parking Citations                       266MB  2019-06-05 22:20:32           5168  \n",
            "jutrera/stanford-car-dataset-by-classes-folder               Stanford Car Dataset by classes folder                2GB  2018-07-02 07:35:45           4463  \n",
            "xvivancos/barcelona-data-sets                                Barcelona data sets                                   1MB  2019-05-18 09:58:15           6375  \n",
            "moltean/fruits                                               Fruits 360 dataset                                  684MB  2019-05-06 15:33:53          18973  \n"
          ],
          "name": "stdout"
        }
      ]
    },
    {
      "cell_type": "code",
      "metadata": {
        "id": "pY15bX3ICbQw",
        "colab_type": "code",
        "colab": {
          "base_uri": "https://localhost:8080/",
          "height": 391
        },
        "outputId": "2d1cd363-2059-4d0a-a59f-995c4b74437c"
      },
      "source": [
        "# List available competitions\n",
        "!kaggle competitions 'list'"
      ],
      "execution_count": 6,
      "outputs": [
        {
          "output_type": "stream",
          "text": [
            "ref                                                deadline             category            reward  teamCount  userHasEntered  \n",
            "-------------------------------------------------  -------------------  ---------------  ---------  ---------  --------------  \n",
            "digit-recognizer                                   2030-01-01 00:00:00  Getting Started  Knowledge       3112           False  \n",
            "titanic                                            2030-01-01 00:00:00  Getting Started  Knowledge      11027           False  \n",
            "house-prices-advanced-regression-techniques        2030-01-01 00:00:00  Getting Started  Knowledge       4664           False  \n",
            "imagenet-object-localization-challenge             2029-12-31 07:00:00  Research         Knowledge         38           False  \n",
            "competitive-data-science-predict-future-sales      2019-12-31 23:59:00  Playground           Kudos       3298           False  \n",
            "open-images-2019-object-detection                  2019-10-01 23:59:00  Research           $25,000         28           False  \n",
            "open-images-2019-visual-relationship               2019-10-01 23:59:00  Research           $25,000         20           False  \n",
            "champs-scalar-coupling                             2019-08-28 23:59:00  Featured           $30,000        549           False  \n",
            "recognizing-faces-in-the-wild                      2019-08-01 23:59:00  Playground       Knowledge        244           False  \n",
            "two-sigma-financial-news                           2019-07-15 23:59:00  Featured          $100,000       2927           False  \n",
            "aerial-cactus-identification                       2019-07-08 23:59:00  Playground       Knowledge        775            True  \n",
            "jigsaw-unintended-bias-in-toxicity-classification  2019-06-26 23:59:00  Featured           $65,000       2567           False  \n",
            "data-science-for-good-city-of-los-angeles          2019-06-21 23:59:00  Analytics          $15,000          0           False  \n",
            "instant-gratification                              2019-06-20 23:59:00  Featured            $5,000       1212           False  \n",
            "imet-2019-fgvc6                                    2019-06-11 23:59:00  Research             Kudos        521           False  \n",
            "imaterialist-fashion-2019-FGVC6                    2019-06-10 23:59:00  Research             Kudos        224           False  \n",
            "inaturalist-2019-fgvc6                             2019-06-10 23:59:00  Research             Kudos        214           False  \n",
            "freesound-audio-tagging-2019                       2019-06-10 11:59:00  Research            $5,000        826           False  \n",
            "iwildcam-2019-fgvc6                                2019-06-07 23:59:00  Playground           Kudos        339           False  \n",
            "LANL-Earthquake-Prediction                         2019-06-03 23:59:00  Research           $50,000       4540           False  \n"
          ],
          "name": "stdout"
        }
      ]
    },
    {
      "cell_type": "markdown",
      "metadata": {
        "id": "fueet0U0ivMt",
        "colab_type": "text"
      },
      "source": [
        "## Download a specific dataset"
      ]
    },
    {
      "cell_type": "code",
      "metadata": {
        "id": "-jTT6SBv6M4o",
        "colab_type": "code",
        "colab": {
          "base_uri": "https://localhost:8080/",
          "height": 221
        },
        "outputId": "7a91d132-565e-44d0-c025-900e878cf7bb"
      },
      "source": [
        "# Download specific competition data using competition api key copied from Kaggle.com competition page\n",
        "!kaggle competitions download -c aerial-cactus-identification"
      ],
      "execution_count": 7,
      "outputs": [
        {
          "output_type": "stream",
          "text": [
            "Downloading train.csv to /content\n",
            "\r  0% 0.00/667k [00:00<?, ?B/s]\n",
            "100% 667k/667k [00:00<00:00, 90.8MB/s]\n",
            "Downloading sample_submission.csv to /content\n",
            "  0% 0.00/160k [00:00<?, ?B/s]\n",
            "100% 160k/160k [00:00<00:00, 49.0MB/s]\n",
            "Downloading test.zip to /content\n",
            "100% 4.20M/4.20M [00:00<00:00, 23.7MB/s]\n",
            "\n",
            "Downloading train.zip to /content\n",
            " 52% 10.0M/19.2M [00:00<00:00, 30.5MB/s]\n",
            "100% 19.2M/19.2M [00:00<00:00, 55.2MB/s]\n"
          ],
          "name": "stdout"
        }
      ]
    },
    {
      "cell_type": "code",
      "metadata": {
        "id": "ZTiGAplp6NuQ",
        "colab_type": "code",
        "colab": {}
      },
      "source": [
        "# Unzip all zipped files in the directory\n",
        "import zipfile\n",
        "for file in os.listdir():\n",
        "  if zipfile.is_zipfile(file):\n",
        "    zip_ref = zipfile.ZipFile(file,'r')\n",
        "    zip_ref.extractall()\n",
        "    zip_ref.close()"
      ],
      "execution_count": 0,
      "outputs": []
    },
    {
      "cell_type": "code",
      "metadata": {
        "id": "4iNH8hdVbcBR",
        "colab_type": "code",
        "colab": {
          "base_uri": "https://localhost:8080/",
          "height": 153
        },
        "outputId": "0b4ffa13-83be-4cec-84d3-35cebd49dd1a"
      },
      "source": [
        "os.listdir(\"/content\")"
      ],
      "execution_count": 11,
      "outputs": [
        {
          "output_type": "execute_result",
          "data": {
            "text/plain": [
              "['.config',\n",
              " 'train',\n",
              " 'test',\n",
              " 'sample_submission.csv',\n",
              " 'train.zip',\n",
              " 'train.csv',\n",
              " 'test.zip',\n",
              " 'sample_data']"
            ]
          },
          "metadata": {
            "tags": []
          },
          "execution_count": 11
        }
      ]
    }
  ]
}